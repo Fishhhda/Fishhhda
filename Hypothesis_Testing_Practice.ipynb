{
  "nbformat": 4,
  "nbformat_minor": 0,
  "metadata": {
    "colab": {
      "provenance": [],
      "authorship_tag": "ABX9TyOiPFKqP9pFkmxEw7RYWhzt",
      "include_colab_link": true
    },
    "kernelspec": {
      "name": "python3",
      "display_name": "Python 3"
    },
    "language_info": {
      "name": "python"
    }
  },
  "cells": [
    {
      "cell_type": "markdown",
      "metadata": {
        "id": "view-in-github",
        "colab_type": "text"
      },
      "source": [
        "<a href=\"https://colab.research.google.com/github/Fishhhda/Fishhhda/blob/main/Hypothesis_Testing_Practice.ipynb\" target=\"_parent\"><img src=\"https://colab.research.google.com/assets/colab-badge.svg\" alt=\"Open In Colab\"/></a>"
      ]
    },
    {
      "cell_type": "code",
      "execution_count": null,
      "metadata": {
        "id": "ClokFIsZlaGn"
      },
      "outputs": [],
      "source": [
        "#One-Sample T-test Practice\n",
        "import numpy as np\n",
        "from scipy import stats"
      ]
    },
    {
      "cell_type": "code",
      "source": [
        "#Generate a sample data\n",
        "data = np.array([23,22,21,25,19,20,18,24,26,22])"
      ],
      "metadata": {
        "id": "Eo3KLXjblhTu"
      },
      "execution_count": null,
      "outputs": []
    },
    {
      "cell_type": "code",
      "source": [
        "#Set the hypothesized population mean\n",
        "pop_mean = 20"
      ],
      "metadata": {
        "id": "3-i2DhXxl-JG"
      },
      "execution_count": null,
      "outputs": []
    },
    {
      "cell_type": "code",
      "source": [
        "#Perform the one-sample t-test\n",
        "t_stat, p_value = stats.ttest_1samp(data, pop_mean)"
      ],
      "metadata": {
        "id": "nyekS5NKl-Vc"
      },
      "execution_count": null,
      "outputs": []
    },
    {
      "cell_type": "code",
      "source": [
        "#Print the results\n",
        "print(\"t-statistics:\", t_stat)\n",
        "print(\"p-value:\", p_value)"
      ],
      "metadata": {
        "colab": {
          "base_uri": "https://localhost:8080/"
        },
        "id": "Z82aDWLcl-Yi",
        "outputId": "a15dcbee-144b-4e37-f840-8f1dbebbf75b"
      },
      "execution_count": null,
      "outputs": [
        {
          "output_type": "stream",
          "name": "stdout",
          "text": [
            "t-statistics: 2.449489742783178\n",
            "p-value: 0.03678749787978613\n"
          ]
        }
      ]
    },
    {
      "cell_type": "code",
      "source": [
        "#Check if the result is statistically significant\n",
        "if p_value < 0.05:\n",
        "  print(\"The result is statistically significant. Reject the null hypothesis.\")\n",
        "else:\n",
        "  print(\"Fail to reject the null hypothesis\")"
      ],
      "metadata": {
        "colab": {
          "base_uri": "https://localhost:8080/"
        },
        "id": "bAoMzUwBl-cK",
        "outputId": "b704c4bf-a2e0-46c9-9f09-324f2721b70a"
      },
      "execution_count": null,
      "outputs": [
        {
          "output_type": "stream",
          "name": "stdout",
          "text": [
            "The result is statistically significant. Reject the null hypothesis.\n"
          ]
        }
      ]
    },
    {
      "cell_type": "code",
      "source": [],
      "metadata": {
        "id": "qReAL9vcl-fb"
      },
      "execution_count": null,
      "outputs": []
    }
  ]
}